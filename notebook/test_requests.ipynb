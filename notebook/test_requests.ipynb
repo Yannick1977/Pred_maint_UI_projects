{
 "cells": [
  {
   "cell_type": "code",
   "execution_count": 16,
   "metadata": {},
   "outputs": [],
   "source": [
    "import requests\n",
    "from urllib.parse import quote"
   ]
  },
  {
   "cell_type": "code",
   "execution_count": 17,
   "metadata": {},
   "outputs": [],
   "source": [
    "BASE_URL = 'https://test-pred-maint-projects.onrender.com/'"
   ]
  },
  {
   "cell_type": "code",
   "execution_count": 18,
   "metadata": {},
   "outputs": [
    {
     "name": "stdout",
     "output_type": "stream",
     "text": [
      "Statut de la réponse: 200\n",
      "Contenu de la réponse: [\"Type\",\"Air temperature [K]\",\"Process temperature [K]\",\"Rotational speed [rpm]\",\"Torque [Nm]\",\"Tool wear [min]\",\"Difference temperature [K]\",\"Power\"]\n"
     ]
    }
   ],
   "source": [
    "url = 'https://test-pred-maint-projects.onrender.com/list_features'\n",
    "response = requests.get(url)\n",
    "\n",
    "# Afficher le statut de la réponse\n",
    "print('Statut de la réponse:', response.status_code)\n",
    "\n",
    "# Afficher le contenu de la réponse\n",
    "print('Contenu de la réponse:', response.text)"
   ]
  },
  {
   "cell_type": "code",
   "execution_count": 19,
   "metadata": {},
   "outputs": [
    {
     "data": {
      "text/plain": [
       "['Type',\n",
       " 'Air temperature [K]',\n",
       " 'Process temperature [K]',\n",
       " 'Rotational speed [rpm]',\n",
       " 'Torque [Nm]',\n",
       " 'Tool wear [min]',\n",
       " 'Difference temperature [K]',\n",
       " 'Power']"
      ]
     },
     "execution_count": 19,
     "metadata": {},
     "output_type": "execute_result"
    }
   ],
   "source": [
    "response_json = response.json()\n",
    "response_json"
   ]
  },
  {
   "cell_type": "code",
   "execution_count": 20,
   "metadata": {},
   "outputs": [],
   "source": [
    "class feature_numeric:\n",
    "    def __init__(self, name:str, min, max):\n",
    "        self.name = name\n",
    "        self.min = min\n",
    "        self.max = max\n",
    "\n",
    "class feature_list:\n",
    "    def __init__(self, name:str, values:list):\n",
    "        self.name = name\n",
    "        self.values = values"
   ]
  },
  {
   "cell_type": "code",
   "execution_count": 45,
   "metadata": {},
   "outputs": [
    {
     "name": "stdout",
     "output_type": "stream",
     "text": [
      "https://test-pred-maint-projects.onrender.com/features/Type\n",
      "{'type': 'object', 'min': 'H', 'max': 'M', 'list': \"['M' 'L' 'H']\"}\n",
      "https://test-pred-maint-projects.onrender.com/features/Air%20temperature%20%5BK%5D\n",
      "{'type': 'float64', 'min': '295.3', 'max': '304.5', 'list': 0}\n",
      "https://test-pred-maint-projects.onrender.com/features/Process%20temperature%20%5BK%5D\n",
      "{'type': 'float64', 'min': '305.7', 'max': '313.8', 'list': 0}\n",
      "https://test-pred-maint-projects.onrender.com/features/Rotational%20speed%20%5Brpm%5D\n",
      "{'type': 'int64', 'min': '1168', 'max': '2886', 'list': 0}\n",
      "https://test-pred-maint-projects.onrender.com/features/Torque%20%5BNm%5D\n",
      "{'type': 'float64', 'min': '3.8', 'max': '76.6', 'list': 0}\n",
      "https://test-pred-maint-projects.onrender.com/features/Tool%20wear%20%5Bmin%5D\n",
      "{'type': 'int64', 'min': '0', 'max': '253', 'list': 0}\n",
      "https://test-pred-maint-projects.onrender.com/features/Difference%20temperature%20%5BK%5D\n",
      "{'type': 'float64', 'min': '7.599999999999966', 'max': '12.100000000000025', 'list': 0}\n",
      "https://test-pred-maint-projects.onrender.com/features/Power\n",
      "{'type': 'float64', 'min': '10966.8', 'max': '99980.4', 'list': 0}\n"
     ]
    }
   ],
   "source": [
    "dict_numeric = {}\n",
    "dict_list = {}\n",
    "\n",
    "for feature in response_json:\n",
    "    url2 = BASE_URL+quote(f'features/{feature}')\n",
    "    response2 = requests.get(url2)\n",
    "    print(url2)\n",
    "    print(response2.json())\n",
    "    if response2.json()['type']=='object':\n",
    "        dict_list[feature] = feature_list(feature, response2.json()['list'])\n",
    "    else:\n",
    "        dict_numeric[feature] = feature_numeric(feature, response2.json()['min'], response2.json()['max'])"
   ]
  },
  {
   "cell_type": "code",
   "execution_count": 44,
   "metadata": {},
   "outputs": [
    {
     "name": "stdout",
     "output_type": "stream",
     "text": [
      "['M','L','H']\n",
      "3\n",
      "<class 'list'>\n"
     ]
    }
   ],
   "source": [
    "import ast\n",
    "print(dict_list['Type'].values.replace(\" \", \",\"))\n",
    "tmp = eval(dict_list['Type'].values.replace(\" \", \",\"))\n",
    "print(len(tmp))\n",
    "print(type(tmp))"
   ]
  },
  {
   "cell_type": "code",
   "execution_count": 24,
   "metadata": {},
   "outputs": [
    {
     "data": {
      "text/plain": [
       "1"
      ]
     },
     "execution_count": 24,
     "metadata": {},
     "output_type": "execute_result"
    }
   ],
   "source": [
    "len(dict_list)"
   ]
  },
  {
   "cell_type": "code",
   "execution_count": null,
   "metadata": {},
   "outputs": [],
   "source": [
    "dict_numeric['Power'].min"
   ]
  },
  {
   "cell_type": "code",
   "execution_count": 56,
   "metadata": {},
   "outputs": [
    {
     "name": "stdout",
     "output_type": "stream",
     "text": [
      "Requête réussie.\n",
      "https://test-pred-maint-projects.onrender.com/predict\n",
      "[{'name': 'Heat dissipation failure', 'proba': 0.9998797178268433}, {'name': 'No failure', 'proba': 5.893323162808883e-09}, {'name': 'Overtrain failure', 'proba': 3.2224573942585266e-07}, {'name': 'Power failure', 'proba': 1.1525643230925198e-06}, {'name': 'Tool wear failure', 'proba': 0.00011871950118802488}]\n"
     ]
    }
   ],
   "source": [
    "url3 = BASE_URL+quote('predict')\n",
    "headers = {\n",
    "    'accept': 'application/json',\n",
    "    'Content-Type': 'application/json'\n",
    "}\n",
    "data = {\n",
    "    \"Type\": \"M\",\n",
    "    \"Air_temperature\": 295.3,\n",
    "    \"Process_temperature\": 305.7,\n",
    "    \"Rotational_speed\": 1168,\n",
    "    \"Torque\": 3.8,\n",
    "    \"Tool_wear\": 253\n",
    "}\n",
    "\n",
    "response = requests.post(url3, headers=headers,data=json.dumps(data))\n",
    "\n",
    "# Vérifiez le statut de la réponse\n",
    "if response.status_code == 200:\n",
    "    print('Requête réussie.')\n",
    "else:\n",
    "    print('Requête échouée.')\n",
    "\n",
    "# Imprimez le contenu de la réponse\n",
    "print(url3)\n",
    "print(response.json())"
   ]
  },
  {
   "cell_type": "code",
   "execution_count": 58,
   "metadata": {},
   "outputs": [],
   "source": [
    "resp = response.json()"
   ]
  },
  {
   "cell_type": "code",
   "execution_count": 63,
   "metadata": {},
   "outputs": [
    {
     "data": {
      "text/plain": [
       "'Heat dissipation failure'"
      ]
     },
     "execution_count": 63,
     "metadata": {},
     "output_type": "execute_result"
    }
   ],
   "source": [
    "resp[0]['name']\n"
   ]
  },
  {
   "cell_type": "code",
   "execution_count": 64,
   "metadata": {},
   "outputs": [
    {
     "data": {
      "text/plain": [
       "0.9998797178268433"
      ]
     },
     "execution_count": 64,
     "metadata": {},
     "output_type": "execute_result"
    }
   ],
   "source": [
    "resp[0]['proba']"
   ]
  },
  {
   "cell_type": "code",
   "execution_count": 71,
   "metadata": {},
   "outputs": [
    {
     "name": "stdout",
     "output_type": "stream",
     "text": [
      "Heat dissipation failure : 99.99\n",
      "No failure : 0.0\n",
      "Overtrain failure : 0.0\n",
      "Power failure : 0.0\n",
      "Tool wear failure : 0.01\n"
     ]
    }
   ],
   "source": [
    "\n",
    "for i,r in enumerate(resp):\n",
    "    print(r['name'] + ' : ' + str(round(r['proba']*100, 2)))"
   ]
  },
  {
   "cell_type": "code",
   "execution_count": 57,
   "metadata": {},
   "outputs": [
    {
     "data": {
      "text/plain": [
       "dict"
      ]
     },
     "execution_count": 57,
     "metadata": {},
     "output_type": "execute_result"
    }
   ],
   "source": [
    "type(data)"
   ]
  },
  {
   "cell_type": "code",
   "execution_count": 54,
   "metadata": {},
   "outputs": [
    {
     "name": "stdout",
     "output_type": "stream",
     "text": [
      "Requête réussie.\n",
      "[{\"name\":\"Heat dissipation failure\",\"proba\":0.9998797178268433},{\"name\":\"No failure\",\"proba\":5.893323162808883e-09},{\"name\":\"Overtrain failure\",\"proba\":3.2224573942585266e-07},{\"name\":\"Power failure\",\"proba\":1.1525643230925198e-06},{\"name\":\"Tool wear failure\",\"proba\":0.00011871950118802488}]\n"
     ]
    }
   ],
   "source": [
    "import requests\n",
    "import json\n",
    "\n",
    "#url = 'https://test-pred-maint-projects.onrender.com/predict'\n",
    "url = BASE_URL+quote('predict')\n",
    "headers = {\n",
    "    'accept': 'application/json',\n",
    "    'Content-Type': 'application/json'\n",
    "}\n",
    "data = {\n",
    "    \"Type\": \"M\",\n",
    "    \"Air_temperature\": 295.3,\n",
    "    \"Process_temperature\": 305.7,\n",
    "    \"Rotational_speed\": 1168,\n",
    "    \"Torque\": 3.8,\n",
    "    \"Tool_wear\": 253\n",
    "}\n",
    "\n",
    "response = requests.post(url, headers=headers, data=json.dumps(data))\n",
    "\n",
    "# Vérifiez le statut de la réponse\n",
    "if response.status_code == 200:\n",
    "    print('Requête réussie.')\n",
    "else:\n",
    "    print('Requête échouée.')\n",
    "\n",
    "# Imprimez le contenu de la réponse\n",
    "print(response.text)"
   ]
  },
  {
   "cell_type": "code",
   "execution_count": 73,
   "metadata": {},
   "outputs": [
    {
     "name": "stdout",
     "output_type": "stream",
     "text": [
      "[14, 7, 2, 70, 7]\n"
     ]
    }
   ],
   "source": [
    "\n",
    "float_array = [14.46295976638794, 7.287550717592239, 1.7090821638703346, 69.52695846557617, 7.013450562953949]\n",
    "\n",
    "\n",
    "# conversion en entier avec arrondi\n",
    "int_array = list(map(round, float_array))\n",
    "\n",
    "print(int_array)"
   ]
  }
 ],
 "metadata": {
  "kernelspec": {
   "display_name": "python_3_10",
   "language": "python",
   "name": "python3"
  },
  "language_info": {
   "codemirror_mode": {
    "name": "ipython",
    "version": 3
   },
   "file_extension": ".py",
   "mimetype": "text/x-python",
   "name": "python",
   "nbconvert_exporter": "python",
   "pygments_lexer": "ipython3",
   "version": "3.10.13"
  }
 },
 "nbformat": 4,
 "nbformat_minor": 2
}
