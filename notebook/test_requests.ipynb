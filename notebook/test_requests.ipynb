{
 "cells": [
  {
   "cell_type": "code",
   "execution_count": 16,
   "metadata": {},
   "outputs": [],
   "source": [
    "import requests\n",
    "from urllib.parse import quote"
   ]
  },
  {
   "cell_type": "code",
   "execution_count": 17,
   "metadata": {},
   "outputs": [],
   "source": [
    "BASE_URL = 'https://test-pred-maint-projects.onrender.com/'"
   ]
  },
  {
   "cell_type": "code",
   "execution_count": 18,
   "metadata": {},
   "outputs": [
    {
     "name": "stdout",
     "output_type": "stream",
     "text": [
      "Statut de la réponse: 200\n",
      "Contenu de la réponse: [\"Type\",\"Air temperature [K]\",\"Process temperature [K]\",\"Rotational speed [rpm]\",\"Torque [Nm]\",\"Tool wear [min]\",\"Difference temperature [K]\",\"Power\"]\n"
     ]
    }
   ],
   "source": [
    "url = 'https://test-pred-maint-projects.onrender.com/list_features'\n",
    "response = requests.get(url)\n",
    "\n",
    "# Afficher le statut de la réponse\n",
    "print('Statut de la réponse:', response.status_code)\n",
    "\n",
    "# Afficher le contenu de la réponse\n",
    "print('Contenu de la réponse:', response.text)"
   ]
  },
  {
   "cell_type": "code",
   "execution_count": 19,
   "metadata": {},
   "outputs": [
    {
     "data": {
      "text/plain": [
       "['Type',\n",
       " 'Air temperature [K]',\n",
       " 'Process temperature [K]',\n",
       " 'Rotational speed [rpm]',\n",
       " 'Torque [Nm]',\n",
       " 'Tool wear [min]',\n",
       " 'Difference temperature [K]',\n",
       " 'Power']"
      ]
     },
     "execution_count": 19,
     "metadata": {},
     "output_type": "execute_result"
    }
   ],
   "source": [
    "response_json = response.json()\n",
    "response_json"
   ]
  },
  {
   "cell_type": "code",
   "execution_count": 20,
   "metadata": {},
   "outputs": [],
   "source": [
    "class feature_numeric:\n",
    "    def __init__(self, name:str, min, max):\n",
    "        self.name = name\n",
    "        self.min = min\n",
    "        self.max = max\n",
    "\n",
    "class feature_list:\n",
    "    def __init__(self, name:str, values:list):\n",
    "        self.name = name\n",
    "        self.values = values"
   ]
  },
  {
   "cell_type": "code",
   "execution_count": 45,
   "metadata": {},
   "outputs": [
    {
     "name": "stdout",
     "output_type": "stream",
     "text": [
      "https://test-pred-maint-projects.onrender.com/features/Type\n",
      "{'type': 'object', 'min': 'H', 'max': 'M', 'list': \"['M' 'L' 'H']\"}\n",
      "https://test-pred-maint-projects.onrender.com/features/Air%20temperature%20%5BK%5D\n",
      "{'type': 'float64', 'min': '295.3', 'max': '304.5', 'list': 0}\n",
      "https://test-pred-maint-projects.onrender.com/features/Process%20temperature%20%5BK%5D\n",
      "{'type': 'float64', 'min': '305.7', 'max': '313.8', 'list': 0}\n",
      "https://test-pred-maint-projects.onrender.com/features/Rotational%20speed%20%5Brpm%5D\n",
      "{'type': 'int64', 'min': '1168', 'max': '2886', 'list': 0}\n",
      "https://test-pred-maint-projects.onrender.com/features/Torque%20%5BNm%5D\n",
      "{'type': 'float64', 'min': '3.8', 'max': '76.6', 'list': 0}\n",
      "https://test-pred-maint-projects.onrender.com/features/Tool%20wear%20%5Bmin%5D\n",
      "{'type': 'int64', 'min': '0', 'max': '253', 'list': 0}\n",
      "https://test-pred-maint-projects.onrender.com/features/Difference%20temperature%20%5BK%5D\n",
      "{'type': 'float64', 'min': '7.599999999999966', 'max': '12.100000000000025', 'list': 0}\n",
      "https://test-pred-maint-projects.onrender.com/features/Power\n",
      "{'type': 'float64', 'min': '10966.8', 'max': '99980.4', 'list': 0}\n"
     ]
    }
   ],
   "source": [
    "dict_numeric = {}\n",
    "dict_list = {}\n",
    "\n",
    "for feature in response_json:\n",
    "    url2 = BASE_URL+quote(f'features/{feature}')\n",
    "    response2 = requests.get(url2)\n",
    "    print(url2)\n",
    "    print(response2.json())\n",
    "    if response2.json()['type']=='object':\n",
    "        dict_list[feature] = feature_list(feature, response2.json()['list'])\n",
    "    else:\n",
    "        dict_numeric[feature] = feature_numeric(feature, response2.json()['min'], response2.json()['max'])"
   ]
  },
  {
   "cell_type": "code",
   "execution_count": 44,
   "metadata": {},
   "outputs": [
    {
     "name": "stdout",
     "output_type": "stream",
     "text": [
      "['M','L','H']\n",
      "3\n",
      "<class 'list'>\n"
     ]
    }
   ],
   "source": [
    "import ast\n",
    "print(dict_list['Type'].values.replace(\" \", \",\"))\n",
    "tmp = eval(dict_list['Type'].values.replace(\" \", \",\"))\n",
    "print(len(tmp))\n",
    "print(type(tmp))"
   ]
  },
  {
   "cell_type": "code",
   "execution_count": 24,
   "metadata": {},
   "outputs": [
    {
     "data": {
      "text/plain": [
       "1"
      ]
     },
     "execution_count": 24,
     "metadata": {},
     "output_type": "execute_result"
    }
   ],
   "source": [
    "len(dict_list)"
   ]
  },
  {
   "cell_type": "code",
   "execution_count": null,
   "metadata": {},
   "outputs": [],
   "source": [
    "dict_numeric['Power'].min"
   ]
  }
 ],
 "metadata": {
  "kernelspec": {
   "display_name": "python_3_10",
   "language": "python",
   "name": "python3"
  },
  "language_info": {
   "codemirror_mode": {
    "name": "ipython",
    "version": 3
   },
   "file_extension": ".py",
   "mimetype": "text/x-python",
   "name": "python",
   "nbconvert_exporter": "python",
   "pygments_lexer": "ipython3",
   "version": "3.10.13"
  }
 },
 "nbformat": 4,
 "nbformat_minor": 2
}
